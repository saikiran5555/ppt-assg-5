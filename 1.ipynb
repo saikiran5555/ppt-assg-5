{
 "cells": [
  {
   "cell_type": "code",
   "execution_count": 1,
   "id": "3548f291",
   "metadata": {},
   "outputs": [
    {
     "name": "stdout",
     "output_type": "stream",
     "text": [
      "[[1, 2], [3, 4]]\n"
     ]
    }
   ],
   "source": [
    "def convertTo2DArray(original, m, n):\n",
    "    if m * n != len(original):\n",
    "        return []  # Return an empty 2D array if it is impossible\n",
    "\n",
    "    result = []\n",
    "    index = 0\n",
    "\n",
    "    for i in range(m):\n",
    "        row = []\n",
    "        for j in range(n):\n",
    "            row.append(original[index])\n",
    "            index += 1\n",
    "        result.append(row)\n",
    "\n",
    "    return result\n",
    "original = [1, 2, 3, 4]\n",
    "m = 2\n",
    "n = 2\n",
    "print(convertTo2DArray(original, m, n))\n"
   ]
  },
  {
   "cell_type": "code",
   "execution_count": null,
   "id": "b291b07e",
   "metadata": {},
   "outputs": [],
   "source": []
  }
 ],
 "metadata": {
  "kernelspec": {
   "display_name": "Python 3 (ipykernel)",
   "language": "python",
   "name": "python3"
  },
  "language_info": {
   "codemirror_mode": {
    "name": "ipython",
    "version": 3
   },
   "file_extension": ".py",
   "mimetype": "text/x-python",
   "name": "python",
   "nbconvert_exporter": "python",
   "pygments_lexer": "ipython3",
   "version": "3.10.9"
  }
 },
 "nbformat": 4,
 "nbformat_minor": 5
}
